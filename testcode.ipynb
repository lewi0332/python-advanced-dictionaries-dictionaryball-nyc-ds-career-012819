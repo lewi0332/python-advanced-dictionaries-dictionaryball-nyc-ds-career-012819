{
 "cells": [
  {
   "cell_type": "code",
   "execution_count": 62,
   "metadata": {},
   "outputs": [
    {
     "ename": "TypeError",
     "evalue": "list indices must be integers or slices, not list",
     "output_type": "error",
     "traceback": [
      "\u001b[0;31m---------------------------------------------------------------------------\u001b[0m",
      "\u001b[0;31mTypeError\u001b[0m                                 Traceback (most recent call last)",
      "\u001b[0;32m<ipython-input-62-57099bf595a6>\u001b[0m in \u001b[0;36m<module>\u001b[0;34m\u001b[0m\n\u001b[1;32m     15\u001b[0m \u001b[0;34m\u001b[0m\u001b[0m\n\u001b[1;32m     16\u001b[0m     \u001b[0;32mfor\u001b[0m \u001b[0mi\u001b[0m \u001b[0;32min\u001b[0m \u001b[0mhometeam\u001b[0m\u001b[0;34m:\u001b[0m\u001b[0;34m\u001b[0m\u001b[0;34m\u001b[0m\u001b[0m\n\u001b[0;32m---> 17\u001b[0;31m         \u001b[0mgame_dictionary\u001b[0m\u001b[0;34m[\u001b[0m\u001b[0;34m'home'\u001b[0m\u001b[0;34m]\u001b[0m\u001b[0;34m[\u001b[0m\u001b[0;34m'players'\u001b[0m\u001b[0;34m]\u001b[0m\u001b[0;34m[\u001b[0m\u001b[0;34m'player_name'\u001b[0m\u001b[0;34m]\u001b[0m \u001b[0;34m=\u001b[0m \u001b[0mhometeam\u001b[0m\u001b[0;34m[\u001b[0m\u001b[0;36m0\u001b[0m\u001b[0;34m]\u001b[0m\u001b[0;34m[\u001b[0m\u001b[0mi\u001b[0m\u001b[0;34m]\u001b[0m\u001b[0;34m\u001b[0m\u001b[0;34m\u001b[0m\u001b[0m\n\u001b[0m\u001b[1;32m     18\u001b[0m         \u001b[0mgame_dictionary\u001b[0m\u001b[0;34m[\u001b[0m\u001b[0;34m'home'\u001b[0m\u001b[0;34m]\u001b[0m\u001b[0;34m[\u001b[0m\u001b[0;34m'players'\u001b[0m\u001b[0;34m]\u001b[0m\u001b[0;34m[\u001b[0m\u001b[0;34m'number'\u001b[0m\u001b[0;34m]\u001b[0m \u001b[0;34m=\u001b[0m \u001b[0mhometeam\u001b[0m\u001b[0;34m[\u001b[0m\u001b[0;36m1\u001b[0m\u001b[0;34m]\u001b[0m\u001b[0;34m[\u001b[0m\u001b[0mi\u001b[0m\u001b[0;34m]\u001b[0m\u001b[0;34m\u001b[0m\u001b[0;34m\u001b[0m\u001b[0m\n\u001b[1;32m     19\u001b[0m         \u001b[0mgame_dictionary\u001b[0m\u001b[0;34m[\u001b[0m\u001b[0;34m'home'\u001b[0m\u001b[0;34m]\u001b[0m\u001b[0;34m[\u001b[0m\u001b[0;34m'players'\u001b[0m\u001b[0;34m]\u001b[0m\u001b[0;34m[\u001b[0m\u001b[0;34m'shoe'\u001b[0m\u001b[0;34m]\u001b[0m \u001b[0;34m=\u001b[0m \u001b[0mhometeam\u001b[0m\u001b[0;34m[\u001b[0m\u001b[0;36m2\u001b[0m\u001b[0;34m]\u001b[0m\u001b[0;34m[\u001b[0m\u001b[0mi\u001b[0m\u001b[0;34m]\u001b[0m\u001b[0;34m\u001b[0m\u001b[0;34m\u001b[0m\u001b[0m\n",
      "\u001b[0;31mTypeError\u001b[0m: list indices must be integers or slices, not list"
     ]
    }
   ],
   "source": [
    "# import csv\n",
    "# awayteam = []\n",
    "# hometeam = []\n",
    "# with open('homeball.csv', 'r') as f:\n",
    "# # we are using DictReader because we want our information to be in dictionary format.\n",
    "#     reader = csv.reader(f)\n",
    "#     for x in reader:\n",
    "#        hometeam.append(x)\n",
    "    \n",
    "# with open('awayball.csv','r') as f:\n",
    "# # we are using DictReader because we want our information to be in dictionary format.\n",
    "#     reader = csv.reader(f)\n",
    "#     for x in reader:\n",
    "#        awayteam.append(x)\n",
    "    \n",
    "#     for i in range(len(hometeam)):\n",
    "#         game_dictionary['home']['players']['player_name'] = hometeam[0][i]\n",
    "#         game_dictionary['home']['players']['number'] = hometeam[1][i]\n",
    "#         game_dictionary['home']['players']['shoe'] = hometeam[2][i]\n",
    "#         game_dictionary['home']['players']['points'] = hometeam[3][i]\n",
    "#         game_dictionary['home']['players']['rebounds'] = hometeam[4][i]\n",
    "#         game_dictionary['home']['players']['assists'] = hometeam[5][i]\n",
    "#         game_dictionary['home']['players']['steals'] = hometeam[6][i]\n",
    "#         game_dictionary['home']['players']['blocks'] = hometeam[7][i]\n",
    "#         game_dictionary['home']['players']['slam_dunks'] = hometeam[8][i]\n",
    "    \n",
    "# game_dictionary\n",
    "    \n",
    "    "
   ]
  },
  {
   "cell_type": "code",
   "execution_count": 71,
   "metadata": {},
   "outputs": [],
   "source": [
    "game_dictionary ={\n",
    "    'home':{\n",
    "        'team_name': 'Brooklyn Nets',\n",
    "        'colors': ['Black','White'],\n",
    "        'players':[{\n",
    "            'player_name': 'Allen Anderson',\n",
    "            'number': 0,\n",
    "            'shoe': 16,\n",
    "            'points': 22,\n",
    "            'rebounds': 12,\n",
    "            'assists': 12,\n",
    "            'steals':3,\n",
    "            'blocks':1,\n",
    "            'slam_dunks':1,\n",
    "        },\n",
    "            {\n",
    "            'player_name': 'Reggie Evans',\n",
    "            'number': 30,\n",
    "            'shoe': 14,\n",
    "            'points': 12,\n",
    "            'rebounds': 12,\n",
    "            'assists': 12,\n",
    "            'steals': 12,\n",
    "            'blocks': 12,\n",
    "            'slam_dunks': 7,\n",
    "        },\n",
    "            {\n",
    "            'player_name': 'Brook Lopez',\n",
    "            'number': 11,\n",
    "            'shoe': 17,\n",
    "            'points': 17,\n",
    "            'rebounds': 19,\n",
    "            'assists': 10,\n",
    "            'steals': 3,\n",
    "            'blocks': 1,\n",
    "            'slam_dunks': 15,\n",
    "        },\n",
    "            {\n",
    "            'player_name': 'Mason Plumlee',\n",
    "            'number':1,\n",
    "            'shoe': 19,\n",
    "            'points': 26,\n",
    "            'rebounds': 12,\n",
    "            'assists': 6,\n",
    "            'steals': 3,\n",
    "            'blocks': 8,\n",
    "            'slam_dunks': 5,\n",
    "        },\n",
    "            {\n",
    "            'player_name': 'Jason Terry',\n",
    "            'number': 31,\n",
    "            'shoe': 15,\n",
    "            'points': 19,\n",
    "            'rebounds': 2,\n",
    "            'assists': 2,\n",
    "            'steals': 4,\n",
    "            'blocks': 11,\n",
    "            'slam_dunks':1,\n",
    "        }]\n",
    "    },\n",
    "    'away':{\n",
    "        'team_name': 'Charlotte Hornets',\n",
    "        'colors':  ['Turquoise','Purple'],\n",
    "        'players':[{\n",
    "            'player_name': 'Jeff Adrien',\n",
    "            'number':4,\n",
    "            'shoe':18,\n",
    "            'points':10,\n",
    "            'rebounds':1,\n",
    "            'assists':1,\n",
    "            'steals':2,\n",
    "            'blocks':7,\n",
    "            'slam_dunks':2   \n",
    "    },\n",
    "        {\n",
    "            'player_name': 'Bismak Biyombo',\n",
    "            'number':0,\n",
    "            'shoe':16,\n",
    "            'points':12,\n",
    "            'rebounds':4,\n",
    "            'assists':7,\n",
    "            'steals':7,\n",
    "            'blocks':15,\n",
    "            'slam_dunks':10   \n",
    "    },{\n",
    "            'player_name': 'DeSagna Diop',\n",
    "            'number':2,\n",
    "            'shoe':14,\n",
    "            'points':24,\n",
    "            'rebounds':12,\n",
    "            'assists':12,\n",
    "            'steals':4,\n",
    "            'blocks':5,\n",
    "            'slam_dunks':5\n",
    "    },{\n",
    "            'player_name': 'Ben Gordon',\n",
    "            'number':8,\n",
    "            'shoe':15,\n",
    "            'points':33,\n",
    "            'rebounds':3,\n",
    "            'assists':2,\n",
    "            'steals':1,\n",
    "            'blocks':1,\n",
    "            'slam_dunks':0    \n",
    "    },{\n",
    "            'player_name': 'Brendan Haywood',\n",
    "            'number':33,\n",
    "            'shoe':15,\n",
    "            'points':6,\n",
    "            'rebounds':12,\n",
    "            'assists':12,\n",
    "            'steals':22,\n",
    "            'blocks':5,\n",
    "            'slam_dunks':12    \n",
    "    }]\n",
    "    }\n",
    "}"
   ]
  },
  {
   "cell_type": "code",
   "execution_count": null,
   "metadata": {},
   "outputs": [],
   "source": [
    "import pdb\n",
    "\n",
    "def game_dict():\n",
    "    return game_dictionary\n",
    "\n",
    "def num_points_scored():\n",
    "    pass\n",
    "\n",
    "def shoe_size():\n",
    "    pass\n",
    "\n",
    "def team_colors():\n",
    "    pass\n",
    "\n",
    "def team_names():\n",
    "    pass\n",
    "\n",
    "def player_numbers():\n",
    "    pass\n",
    "\n",
    "def player_stats():\n",
    "    pass"
   ]
  },
  {
   "cell_type": "code",
   "execution_count": 74,
   "metadata": {},
   "outputs": [
    {
     "data": {
      "text/plain": [
       "'Brooklyn Nets'"
      ]
     },
     "execution_count": 74,
     "metadata": {},
     "output_type": "execute_result"
    }
   ],
   "source": [
    "game_dict()['home']['team_name']"
   ]
  },
  {
   "cell_type": "code",
   "execution_count": 154,
   "metadata": {},
   "outputs": [
    {
     "data": {
      "text/plain": [
       "{'team_name': 'Charlotte Hornets',\n",
       " 'colors': ['Turquoise', 'Purple'],\n",
       " 'players': [{'player_name': 'Jeff Adrien',\n",
       "   'number': 4,\n",
       "   'shoe': 18,\n",
       "   'points': 10,\n",
       "   'rebounds': 1,\n",
       "   'assists': 1,\n",
       "   'steals': 2,\n",
       "   'blocks': 7,\n",
       "   'slam_dunks': 2},\n",
       "  {'player_name': 'Bismak Biyombo',\n",
       "   'number': 0,\n",
       "   'shoe': 16,\n",
       "   'points': 12,\n",
       "   'rebounds': 4,\n",
       "   'assists': 7,\n",
       "   'steals': 7,\n",
       "   'blocks': 15,\n",
       "   'slam_dunks': 10},\n",
       "  {'player_name': 'DeSagna Diop',\n",
       "   'number': 2,\n",
       "   'shoe': 14,\n",
       "   'points': 24,\n",
       "   'rebounds': 12,\n",
       "   'assists': 12,\n",
       "   'steals': 4,\n",
       "   'blocks': 5,\n",
       "   'slam_dunks': 5},\n",
       "  {'player_name': 'Ben Gordon',\n",
       "   'number': 8,\n",
       "   'shoe': 15,\n",
       "   'points': 33,\n",
       "   'rebounds': 3,\n",
       "   'assists': 2,\n",
       "   'steals': 1,\n",
       "   'blocks': 1,\n",
       "   'slam_dunks': 0},\n",
       "  {'player_name': 'Brendan Haywood',\n",
       "   'number': 33,\n",
       "   'shoe': 15,\n",
       "   'points': 6,\n",
       "   'rebounds': 12,\n",
       "   'assists': 12,\n",
       "   'steals': 22,\n",
       "   'blocks': 5,\n",
       "   'slam_dunks': 12}]}"
      ]
     },
     "execution_count": 154,
     "metadata": {},
     "output_type": "execute_result"
    }
   ],
   "source": [
    "game_dict()['away']"
   ]
  },
  {
   "cell_type": "raw",
   "metadata": {},
   "source": [
    "def num_points_scored(name):\n",
    "    for i in game_dict():\n",
    "        for x in range(len(game_dict()[i]['players'])):\n",
    "            if game_dict()[i]['players'][x]['player_name'] == name:\n",
    "                print(game_dict()[i]['players'][x]['points'])\n",
    "            \n",
    "num_points_scored('Brendan Haywood')"
   ]
  },
  {
   "cell_type": "code",
   "execution_count": 149,
   "metadata": {},
   "outputs": [
    {
     "name": "stdout",
     "output_type": "stream",
     "text": [
      "15\n"
     ]
    }
   ],
   "source": [
    "def shoe_size(name):\n",
    "    for i in game_dict():\n",
    "        for x in range(len(game_dict()[i]['players'])):\n",
    "            if game_dict()[i]['players'][x]['player_name'] == name:\n",
    "                print(game_dict()[i]['players'][x]['shoe'])\n",
    "shoe_size('Brendan Haywood')"
   ]
  },
  {
   "cell_type": "code",
   "execution_count": 158,
   "metadata": {},
   "outputs": [
    {
     "name": "stdout",
     "output_type": "stream",
     "text": [
      "['Turquoise', 'Purple']\n"
     ]
    }
   ],
   "source": [
    "def team_colors(name):\n",
    "    for i in game_dict():\n",
    "        if game_dict()[i]['team_name'] == name:\n",
    "            print(game_dict()[i]['colors'])\n",
    "                \n",
    "team_colors('Charlotte Hornets')"
   ]
  },
  {
   "cell_type": "code",
   "execution_count": 196,
   "metadata": {},
   "outputs": [],
   "source": [
    "def team_names(dictionary):\n",
    "    temp=[]\n",
    "    for i in dictionary:\n",
    "        print(i)\n",
    "        temp.append(dictionary[i]['team_name'])\n",
    "    return temp"
   ]
  },
  {
   "cell_type": "code",
   "execution_count": 204,
   "metadata": {},
   "outputs": [
    {
     "data": {
      "text/plain": [
       "[4, 0, 2, 8, 33]"
      ]
     },
     "execution_count": 204,
     "metadata": {},
     "output_type": "execute_result"
    }
   ],
   "source": [
    "def player_numbers(name):\n",
    "    temp =[]\n",
    "    for i in game_dict():\n",
    "        if game_dict()[i]['team_name'] == name:\n",
    "            for x in range(len(game_dict()[i]['players'])):\n",
    "                temp.append(game_dict()[i]['players'][x]['number'])\n",
    "                \n",
    "    return temp\n",
    "\n",
    "player_numbers('Charlotte Hornets')           "
   ]
  },
  {
   "cell_type": "code",
   "execution_count": 218,
   "metadata": {},
   "outputs": [
    {
     "data": {
      "text/plain": [
       "{'number': 33,\n",
       " 'shoe': 15,\n",
       " 'points': 6,\n",
       " 'rebounds': 12,\n",
       " 'assists': 12,\n",
       " 'steals': 22,\n",
       " 'blocks': 5,\n",
       " 'slam_dunks': 12}"
      ]
     },
     "execution_count": 218,
     "metadata": {},
     "output_type": "execute_result"
    }
   ],
   "source": [
    "def player_stats(name):\n",
    "    for i in game_dict():\n",
    "        for x in range(len(game_dict()[i]['players'])):\n",
    "            if game_dict()[i]['players'][x]['player_name'] == name:\n",
    "                full_dict = game_dict()[i]['players'][x]\n",
    "                del full_dict['player_name']\n",
    "                return full_dict\n",
    "               \n",
    "                \n",
    "\n",
    "player_stats('Brendan Haywood')"
   ]
  },
  {
   "cell_type": "code",
   "execution_count": 270,
   "metadata": {},
   "outputs": [
    {
     "data": {
      "text/plain": [
       "[('Mason Plumlee', 12)]"
      ]
     },
     "execution_count": 270,
     "metadata": {},
     "output_type": "execute_result"
    }
   ],
   "source": [
    "def big_shoe_rebounds():\n",
    "    temp_size = 0\n",
    "    \n",
    "    temp_player = []\n",
    "    \n",
    "    for i in game_dict():\n",
    "        for x in game_dict()[i]['players']:\n",
    "            if x['shoe'] > temp_size:\n",
    "                temp_size = x['shoe']\n",
    "                temp_player = []\n",
    "                temp_player.append((x['player_name'], x['rebounds']))\n",
    "            \n",
    "            elif x['shoe'] == temp_size:\n",
    "                temp_size == x['shoe']\n",
    "                temp_player.append(x['player_name'], x['rebounds'])\n",
    "            else:\n",
    "                pass\n",
    "    \n",
    "    return temp_player\n",
    "                \n",
    "        \n",
    "            #for z in game_dict()[i]['players'][x]:\n",
    "                #print(game_dict()[i]['players'][x]['shoe'])\n",
    "                #temp.append(game_dict()[i]['players'][x]['number'])\n",
    "                \n",
    "big_shoe_rebounds()"
   ]
  },
  {
   "cell_type": "code",
   "execution_count": null,
   "metadata": {},
   "outputs": [],
   "source": []
  }
 ],
 "metadata": {
  "kernelspec": {
   "display_name": "Python 3",
   "language": "python",
   "name": "python3"
  },
  "language_info": {
   "codemirror_mode": {
    "name": "ipython",
    "version": 3
   },
   "file_extension": ".py",
   "mimetype": "text/x-python",
   "name": "python",
   "nbconvert_exporter": "python",
   "pygments_lexer": "ipython3",
   "version": "3.6.7"
  }
 },
 "nbformat": 4,
 "nbformat_minor": 2
}
